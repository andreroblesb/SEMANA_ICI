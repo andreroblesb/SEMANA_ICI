{
 "cells": [
  {
   "cell_type": "markdown",
   "metadata": {},
   "source": [
    "# MLE en estimación de compradores en supermercado.\n",
    "### André Robles Bueckmann \n",
    "\n",
    "Dato un conjunto de datos de ganancias y ratings por transacción de comunidades y locales en una región (en donde las ventas ya descuentan el precio de producción de un producto e impuestos), queremos evaluar la viabilidad de colocar un nuevo supermercado que genere 1.5M de pesos de ganancia neta. Para esto se realiza tanto una aproximación de distribución con la función máxima de similitud (MLE) así como observaciones de los ratings dados por los consumidores por cada experiencia de compra (venta del supermercado)."
   ]
  },
  {
   "cell_type": "code",
   "execution_count": 49,
   "metadata": {},
   "outputs": [
    {
     "name": "stdout",
     "output_type": "stream",
     "text": [
      "Done\n"
     ]
    }
   ],
   "source": [
    "import matplotlib.pyplot as plt\n",
    "import numpy as np\n",
    "import pandas as pd\n",
    "from scipy.stats import beta\n",
    "from scipy.stats import norm\n",
    "from scipy.optimize import fsolve\n",
    "print(\"Done\")"
   ]
  },
  {
   "cell_type": "markdown",
   "metadata": {},
   "source": [
    "Para este propósito hacemos uso de la función de distribución de probabilidad \"Beta\". Esta nos proporciona la flexibilidad suficiente para poder ajustar correctamente los parámetros mu y sigma a los datos dados. Iniciamos normalizando los datos de las ventas [0, 1], pues es lo que naturalmente nos pide la distribución, para después calcular el valor de los coeficientes Alpha y Beta."
   ]
  },
  {
   "cell_type": "code",
   "execution_count": 50,
   "metadata": {},
   "outputs": [
    {
     "name": "stdout",
     "output_type": "stream",
     "text": [
      "      Sales  Rating\n",
      "0  548.9715     9.1\n",
      "1   80.2200     9.6\n",
      "2  340.5255     7.4\n",
      "3  489.0480     8.4\n",
      "4  634.3785     5.3\n",
      "1.0343378458769883 2.912435546737946\n"
     ]
    }
   ],
   "source": [
    "df = pd.read_csv(\"SuperMarketData.csv\")\n",
    "print(df.head())\n",
    "sales = np.array(df[\"Sales\"])*19.88 # convertimos a pesos\n",
    "# Normalizamos\n",
    "max_sales = max(sales)\n",
    "min_sales = min(sales)\n",
    "sales_norm = (1/(max_sales - min_sales)) * (sales - min_sales)\n",
    "a,b,_,_=beta.fit(sales)\n",
    "print(a,b)"
   ]
  },
  {
   "cell_type": "markdown",
   "metadata": {},
   "source": [
    "Una vez obtenidos los coeficientes, comenzamos por desnormalizar los parámetros de nuestra distribución para poder trabajar con las estimaciones."
   ]
  },
  {
   "cell_type": "code",
   "execution_count": 51,
   "metadata": {},
   "outputs": [
    {
     "name": "stdout",
     "output_type": "stream",
     "text": [
      "mu: 5588.846237107233, sigma: 4056.395134259388)\n"
     ]
    }
   ],
   "source": [
    "mu_norm = a / (a + b)\n",
    "var_norm = (a * b) / ((a + b) ** 2 * (a+b+1))\n",
    "desv_norm = np.sqrt(var_norm)\n",
    "mu = mu_norm * (max_sales - min_sales) + min_sales\n",
    "var = (max_sales - min_sales) ** 2 * var_norm\n",
    "sigma = np.sqrt(var)\n",
    "print(f\"mu: {mu}, sigma: {sigma})\")"
   ]
  },
  {
   "cell_type": "markdown",
   "metadata": {},
   "source": [
    "Con el propósito de hacer un pronóstico más fiable, vamos a considerar los gastos totales siguientes: Nóminas, luz, agua, así como incorporar el beneficio que queremos forzar generar (1.5M de pesos). La variable *ingreso*."
   ]
  },
  {
   "cell_type": "code",
   "execution_count": 52,
   "metadata": {},
   "outputs": [
    {
     "name": "stdout",
     "output_type": "stream",
     "text": [
      "Nomina total: 1090396.42\n",
      "6623999.999999999\n",
      "24695.424\n"
     ]
    }
   ],
   "source": [
    "#------Salarios------\n",
    "# Factor para trabajos de remuneración mínima\n",
    "fact = 1.15\n",
    "\n",
    "sal_cajeros = 258.25\n",
    "num_cajeros = 30\n",
    "dias_t = 24\n",
    "tot_sal_caj = sal_cajeros * num_cajeros*dias_t*fact\n",
    "\n",
    "sal_conserjes = 5000\n",
    "num_conserjes = 20\n",
    "tot_sal_conserjes = sal_conserjes* num_conserjes*fact\n",
    "\n",
    "gerente = 100000\n",
    "sub_gerentes = 45000\n",
    "num_subgerentes = 4\n",
    "tot_sal_sub = sub_gerentes*num_subgerentes\n",
    "\n",
    "sal_almacenista = 262.13\n",
    "num_almacenista = 40\n",
    "tot_sal_alm = sal_almacenista*num_almacenista*dias_t*fact\n",
    "\n",
    "g_pasillo = 264.65\n",
    "num_pasillos = 40\n",
    "tot_pasillo = g_pasillo*num_pasillos*fact\n",
    "\n",
    "nomina_tot = tot_sal_caj + tot_sal_conserjes + tot_sal_sub + gerente + tot_sal_sub + tot_sal_alm + tot_pasillo\n",
    "print(f'Nomina total: {nomina_tot}')\n",
    "\n",
    "# Para una sucursal de 2000 m^2, (120kW/hr)m^2 abierta 12 hrs donde se cobra $2.3 por kW/hr\n",
    "gasto_luz = 120*2000*12*2.3\n",
    "print(gasto_luz)\n",
    "\n",
    "# Para una sucursal con 94 empleados, estimando 3 usos de baño por día. Se asumen 100 usos de clientes al día. Se calcula gasto mensual. $265.2 por m^3, que equivalen a 1000 litros.\n",
    "gasto_agua = (16 * (94 + 100) * 30 * 265.2) / 1000\n",
    "print(gasto_agua)\n",
    "\n",
    "gastos_tot = gasto_luz+gasto_agua+nomina_tot\n",
    "ingreso = gastos_tot + 1500000"
   ]
  },
  {
   "cell_type": "markdown",
   "metadata": {},
   "source": [
    "Una vez obtenido nuestro parámetros optimizados de la distribución \"Beta\" así como nuestros ingresos totales, podemos calcular la cantidad de ventas que necesitamos para llegar a nuestros ingresos objetivos dándo un valor de confianza \"z\", en cuál en este caso se establece como 1%. Es decir, queremos que solo en el 1% de las ocasiones el valor de nuestras ventas sea menor al umbral (ingreso).\n",
    "\n",
    "La fórmula utilizada para posteriormente resolver con *fsolve* viene de la normalización de un valor con respecto a la distribución normal \"(Z = Sn - mu * N) / (sigma * sqrt(n))\", la cual es igualada a 0."
   ]
  },
  {
   "cell_type": "code",
   "execution_count": 53,
   "metadata": {},
   "outputs": [
    {
     "name": "stdout",
     "output_type": "stream",
     "text": [
      "Valor entrenado de N: 1653.1304408872268\n",
      "Cantidad estimada de ventas: 1723.2216119882273\n",
      "Porcentaje de la población que debe visitar el supermercado semanalmente: 0.0108% con un consumo aproximado de 5588.85 pesos.\n"
     ]
    }
   ],
   "source": [
    "def dist_normal_est(N):\n",
    "    Z = norm.ppf(0.01)\n",
    "    return (mu * N + Z * sigma * np.sqrt(N))**2 - ingreso**2\n",
    "\n",
    "valor_entrenado = ingreso/mu\n",
    "print(\"Valor entrenado de N:\", valor_entrenado)\n",
    "N = fsolve(dist_normal_est, valor_entrenado)\n",
    "print(\"Cantidad estimada de ventas:\", N[0])\n",
    "\n",
    "poblacion = N/4\n",
    "porcentaje_poblacion = poblacion/40000\n",
    "print(f\"Porcentaje de la población que debe visitar el supermercado semanalmente: {porcentaje_poblacion[0]:.4f}% con un consumo aproximado de {mu:.2f} pesos.\")"
   ]
  },
  {
   "cell_type": "markdown",
   "metadata": {},
   "source": [
    "Ahora, observemos la distribución ofrecida por los ratings de cada venta de nuestros datos. Esto con el propósito de encontrar una distribución la cuál parezca modelarlo, así como calcular la probabilidad de que la media de nuestros clientes den un rating de 8.5, el cuál se asigna de manera arbitraria como un puntaje \"favorable\"."
   ]
  },
  {
   "cell_type": "code",
   "execution_count": 54,
   "metadata": {},
   "outputs": [
    {
     "data": {
      "image/png": "[encoded data removed]",
      "text/plain": [
       "<Figure size 640x480 with 1 Axes>"
      ]
     },
     "metadata": {},
     "output_type": "display_data"
    }
   ],
   "source": [
    "ratings = np.array(df['Rating'])\n",
    "n, bins, patches = plt.hist(ratings, edgecolor=\"black\")\n",
    "for num in bins:\n",
    "  plt.text(num, 1, round(num, 2), ha='center', color='red')"
   ]
  },
  {
   "cell_type": "markdown",
   "metadata": {},
   "source": [
    "De la distribución bruta graficada, parece difícil llegar a una conclusión irrefutable acerca de la distribución más adecuada. Sin embargo, podemos elegir nuevamente la distribución de probabilidad \"Beta\" dado que existe un intervalo finito de valores [0, 10]. Así, graficamos una vez más pensado en una normalización de la distribución \"Beta\"."
   ]
  },
  {
   "cell_type": "code",
   "execution_count": 55,
   "metadata": {},
   "outputs": [
    {
     "name": "stdout",
     "output_type": "stream",
     "text": [
      "0.8923738272226862 0.9934875526087485\n",
      "mu: 6.839149802099823, sigma: 1.7634306205368828)\n"
     ]
    },
    {
     "data": {
      "image/png": "[encoded data removed]",
      "text/plain": [
       "<Figure size 640x480 with 1 Axes>"
      ]
     },
     "metadata": {},
     "output_type": "display_data"
    }
   ],
   "source": [
    "max_ratings = max(ratings)\n",
    "min_ratings = min(ratings)\n",
    "ratings_norm = (1/(max_ratings - min_ratings)) * (ratings - min_ratings)\n",
    "a,b,_,_=beta.fit(ratings)\n",
    "print(a,b)\n",
    "\n",
    "mu_norm = a / (a + b)\n",
    "var_norm = (a * b) / ((a + b) ** 2 * (a+b+1))\n",
    "desv_norm = np.sqrt(var_norm)\n",
    "mu = mu_norm * (max_ratings - min_ratings) + min_ratings\n",
    "var = (max_ratings - min_ratings) ** 2 * var_norm\n",
    "sigma = np.sqrt(var)\n",
    "print(f\"mu: {mu}, sigma: {sigma})\")\n",
    "\n",
    "n, bins, patches = plt.hist(ratings_norm, bins=30, density=True, alpha=0.75, edgecolor=\"black\", label='Histograma de Ratings Normalizados')\n",
    "x = np.linspace(0, 1, 100)\n",
    "y = beta.pdf(x, a, b)\n",
    "plt.plot(x, y, 'r-', label='Distribución Beta ajustada')\n",
    "plt.grid(True)\n",
    "plt.show()"
   ]
  },
  {
   "cell_type": "markdown",
   "metadata": {},
   "source": [
    "Podemos con esto calcular la probabilidad de que el rating de nuestro supermercado sea de 8.5, bajo la suposición de tener un comportamiento parecido. Tomando en cuenta que cada rating es independiente entre sí, una cantidad grande de estos a pesar de haber sido contruida con una función \"Beta\", puede pensarse que tiende a una distribución normal."
   ]
  },
  {
   "cell_type": "code",
   "execution_count": 56,
   "metadata": {},
   "outputs": [
    {
     "name": "stdout",
     "output_type": "stream",
     "text": [
      "La probabilidad de que la media de los ratings sea al menos 8.5 es aproximadamente 0.17314008309421802\n"
     ]
    }
   ],
   "source": [
    "prob = 1 - norm.cdf(8.5, mu, sigma)\n",
    "print(f\"La probabilidad de que la media de los ratings sea al menos 8.5 es aproximadamente {prob}\") "
   ]
  },
  {
   "cell_type": "markdown",
   "metadata": {},
   "source": [
    "Considerando que la media resultante de la distribución es aproximadamente 17.31%, bastante lejos de una probabilidad que pueda siquiera acercarse a ser aleatoria (50%), los resultados de los \"ratings\" de ventas realizadas en la región no son favorables. Por tanto, sería hipotéticamente prudente informar al departamento de atención al cliente del supermercado que una buena atención y servicio puede no solo ser fundamental para la permanencia del supermercado sino para obtener un consumidor fiel por ofrecer este diferenciador."
   ]
  },
  {
   "cell_type": "markdown",
   "metadata": {},
   "source": [
    "## Referencias\n",
    "Sueldos 2024. Glassdoor. https://www.glassdoor.com.mx/Sueldos\n",
    "\n",
    "Salarios mínimos 2024. CONASAMI. https://www.gob.mx/cms/uploads/attachment/file/873886/Tabla_de_Salarios_M_nimos_2024.pdf\n",
    "\n",
    "Costo real del agua. Regulación y tarifas: IMCO. https://imco.org.mx/wp-content/uploads/2023/08/Investigacion_Costo-real-del-agua-en-Mexico_31082023-1.pdf"
   ]
  }
 ],
 "metadata": {
  "kernelspec": {
   "display_name": "base",
   "language": "python",
   "name": "python3"
  },
  "language_info": {
   "codemirror_mode": {
    "name": "ipython",
    "version": 3
   },
   "file_extension": ".py",
   "mimetype": "text/x-python",
   "name": "python",
   "nbconvert_exporter": "python",
   "pygments_lexer": "ipython3",
   "version": "3.12.4"
  }
 },
 "nbformat": 4,
 "nbformat_minor": 2
}
